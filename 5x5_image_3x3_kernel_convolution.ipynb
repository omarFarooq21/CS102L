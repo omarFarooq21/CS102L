{
  "nbformat": 4,
  "nbformat_minor": 0,
  "metadata": {
    "colab": {
      "provenance": [],
      "authorship_tag": "ABX9TyNsRBBFqIYw7IMNuFDvyE8W",
      "include_colab_link": true
    },
    "kernelspec": {
      "name": "python3",
      "display_name": "Python 3"
    },
    "language_info": {
      "name": "python"
    }
  },
  "cells": [
    {
      "cell_type": "markdown",
      "metadata": {
        "id": "view-in-github",
        "colab_type": "text"
      },
      "source": [
        "<a href=\"https://colab.research.google.com/github/omarFarooq21/CS102L/blob/main/5x5_image_3x3_kernel_convolution.ipynb\" target=\"_parent\"><img src=\"https://colab.research.google.com/assets/colab-badge.svg\" alt=\"Open In Colab\"/></a>"
      ]
    },
    {
      "cell_type": "code",
      "execution_count": 1,
      "metadata": {
        "id": "guB3Zly1QFMj"
      },
      "outputs": [],
      "source": [
        "import torch\n",
        "import numpy as np\n",
        "image = torch.tensor(np.array([[10,10,10,10,10], [10,20,20,20,10], [10,20,30,20,10],  [10,20,20,20,10], [10,10,10,10,10]]))\n",
        "#print(image[:3,:3])\n",
        "#print(image)"
      ]
    },
    {
      "cell_type": "code",
      "source": [
        "filterx = torch.tensor(np.array([[-1, 0, 1], [-2,0,2], [-1,0,1]]))\n",
        "filterx"
      ],
      "metadata": {
        "colab": {
          "base_uri": "https://localhost:8080/"
        },
        "id": "V4kLlHIIQHrG",
        "outputId": "00bc0de6-b238-40c5-8cad-b1c7309958d5"
      },
      "execution_count": 2,
      "outputs": [
        {
          "output_type": "execute_result",
          "data": {
            "text/plain": [
              "tensor([[-1,  0,  1],\n",
              "        [-2,  0,  2],\n",
              "        [-1,  0,  1]])"
            ]
          },
          "metadata": {},
          "execution_count": 2
        }
      ]
    },
    {
      "cell_type": "code",
      "source": [
        "filtery = torch.tensor(np.array([[-1, -2, -1], [0,0,0], [1,2,1]]))\n",
        "filtery"
      ],
      "metadata": {
        "colab": {
          "base_uri": "https://localhost:8080/"
        },
        "id": "b6sncN-IQJHd",
        "outputId": "2b8bc4ee-e7f8-4f54-e839-f4c30aa85110"
      },
      "execution_count": 3,
      "outputs": [
        {
          "output_type": "execute_result",
          "data": {
            "text/plain": [
              "tensor([[-1, -2, -1],\n",
              "        [ 0,  0,  0],\n",
              "        [ 1,  2,  1]])"
            ]
          },
          "metadata": {},
          "execution_count": 3
        }
      ]
    },
    {
      "cell_type": "code",
      "source": [
        "def absolute(Gx, Gy):\n",
        "  return torch.abs(Gx) + torch.abs(Gy)\n",
        ""
      ],
      "metadata": {
        "id": "6wsXo79ZQJZf"
      },
      "execution_count": 4,
      "outputs": []
    },
    {
      "cell_type": "code",
      "source": [
        "def convolve(image, filter):  #takes a 5x5 image and a 3x3 filter\n",
        "  rows, cols = image.shape\n",
        "  k, l = filter.shape\n",
        "  output = torch.zeros((3,3))\n",
        "  for i in range(rows - 2):\n",
        "    for j in range(cols - 2):\n",
        "      submatrix = image[i:i+3, j:j+3]\n",
        "      conv_val = 0\n",
        "      for x in range(k):\n",
        "        for y in range(l):\n",
        "          conv_val += filter[x][y] * submatrix[x][y]\n",
        "      output[i,j] = conv_val\n",
        "\n",
        "  return output"
      ],
      "metadata": {
        "id": "pm4zq-cgQKru"
      },
      "execution_count": 5,
      "outputs": []
    },
    {
      "cell_type": "code",
      "source": [
        "outputx = convolve(image, filterx)\n",
        "outputx\n"
      ],
      "metadata": {
        "colab": {
          "base_uri": "https://localhost:8080/"
        },
        "id": "_pP9wI5HQMO5",
        "outputId": "513ccd8a-e952-4268-d838-befd70d3cef9"
      },
      "execution_count": 6,
      "outputs": [
        {
          "output_type": "execute_result",
          "data": {
            "text/plain": [
              "tensor([[ 40.,   0., -40.],\n",
              "        [ 60.,   0., -60.],\n",
              "        [ 40.,   0., -40.]])"
            ]
          },
          "metadata": {},
          "execution_count": 6
        }
      ]
    },
    {
      "cell_type": "code",
      "source": [
        "outputy = convolve(image, filtery)\n",
        "outputy\n"
      ],
      "metadata": {
        "colab": {
          "base_uri": "https://localhost:8080/"
        },
        "id": "QcyXB6E5QNYD",
        "outputId": "bbf80a8e-59b8-409b-c2fb-3a054f23e0df"
      },
      "execution_count": 8,
      "outputs": [
        {
          "output_type": "execute_result",
          "data": {
            "text/plain": [
              "tensor([[ 40.,  60.,  40.],\n",
              "        [  0.,   0.,   0.],\n",
              "        [-40., -60., -40.]])"
            ]
          },
          "metadata": {},
          "execution_count": 8
        }
      ]
    },
    {
      "cell_type": "code",
      "source": [
        "abs = absolute(outputx, outputy)\n",
        "abs"
      ],
      "metadata": {
        "colab": {
          "base_uri": "https://localhost:8080/"
        },
        "id": "lJuaj-s3QPAg",
        "outputId": "6568ad9c-45e5-48a9-a8dd-e92b461fcee9"
      },
      "execution_count": 10,
      "outputs": [
        {
          "output_type": "execute_result",
          "data": {
            "text/plain": [
              "tensor([[80., 60., 80.],\n",
              "        [60.,  0., 60.],\n",
              "        [80., 60., 80.]])"
            ]
          },
          "metadata": {},
          "execution_count": 10
        }
      ]
    },
    {
      "cell_type": "code",
      "source": [],
      "metadata": {
        "id": "0r_eBBLdQQ-z"
      },
      "execution_count": null,
      "outputs": []
    }
  ]
}